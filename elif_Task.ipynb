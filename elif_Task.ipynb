{
 "cells": [
  {
   "cell_type": "markdown",
   "id": "940f0dff",
   "metadata": {},
   "source": [
    "# join text\n",
    " * join a multple strings whith help of function"
   ]
  },
  {
   "cell_type": "code",
   "execution_count": 1,
   "id": "5f41dc3a",
   "metadata": {},
   "outputs": [],
   "source": [
    "def join_text (*args,separator=''):\n",
    "    return separator.join(args)"
   ]
  },
  {
   "cell_type": "code",
   "execution_count": 2,
   "id": "6875d579",
   "metadata": {},
   "outputs": [],
   "source": [
    "t1 = \"Class\"\n",
    "t2 = \"room\"\n",
    "\n",
    "joined_text = join_text(t1,t2, separator=' ')"
   ]
  },
  {
   "cell_type": "code",
   "execution_count": 3,
   "id": "f4281bac",
   "metadata": {},
   "outputs": [
    {
     "name": "stdout",
     "output_type": "stream",
     "text": [
      "Class room\n"
     ]
    }
   ],
   "source": [
    "print(joined_text)"
   ]
  },
  {
   "cell_type": "markdown",
   "id": "70dc8a29",
   "metadata": {},
   "source": [
    "# trim text"
   ]
  },
  {
   "cell_type": "code",
   "execution_count": 4,
   "id": "b834d3e6",
   "metadata": {},
   "outputs": [],
   "source": [
    "def trim(text, side = 'both'):\n",
    "    if side == 'left':\n",
    "        return text.lstrip()\n",
    "    elif side == 'right':\n",
    "        return text.rstrip()\n",
    "    elif side == 'both':\n",
    "        return text.strip()"
   ]
  },
  {
   "cell_type": "code",
   "execution_count": 5,
   "id": "4e8913b7",
   "metadata": {},
   "outputs": [
    {
     "name": "stdout",
     "output_type": "stream",
     "text": [
      "trimmed(both side): classroom\n"
     ]
    }
   ],
   "source": [
    "text = \"        classroom     \"\n",
    "\n",
    "trimmed_text_both = trim(text)\n",
    "print('trimmed(both side):',trimmed_text_both)"
   ]
  },
  {
   "cell_type": "markdown",
   "id": "cb737fba",
   "metadata": {},
   "source": [
    "# substitute text"
   ]
  },
  {
   "cell_type": "code",
   "execution_count": 6,
   "id": "2798fb85",
   "metadata": {},
   "outputs": [],
   "source": [
    "def substitute_text(text,old,new):\n",
    "    return text.replace(old,new)"
   ]
  },
  {
   "cell_type": "code",
   "execution_count": 7,
   "id": "a510b870",
   "metadata": {},
   "outputs": [],
   "source": [
    "real_text = \"I am buying a Ferrari tomorrow\"\n",
    "old_text = \"Ferrari\"\n",
    "new_text = \"BMW\""
   ]
  },
  {
   "cell_type": "code",
   "execution_count": 8,
   "id": "b8ca2a3e",
   "metadata": {},
   "outputs": [],
   "source": [
    "substituted_text = substitute_text(real_text,old_text,new_text)"
   ]
  },
  {
   "cell_type": "code",
   "execution_count": 9,
   "id": "2eff78b5",
   "metadata": {},
   "outputs": [
    {
     "name": "stdout",
     "output_type": "stream",
     "text": [
      "I am buying a Ferrari tomorrow\n",
      "I am buying a BMW tomorrow\n"
     ]
    }
   ],
   "source": [
    "print(real_text)\n",
    "print(substituted_text)"
   ]
  },
  {
   "cell_type": "markdown",
   "id": "cc0fc62f",
   "metadata": {},
   "source": [
    "# cut text"
   ]
  },
  {
   "cell_type": "code",
   "execution_count": 10,
   "id": "d7de8abf",
   "metadata": {},
   "outputs": [],
   "source": [
    "def cut_text(text,start,end):\n",
    "    return text[start:end]"
   ]
  },
  {
   "cell_type": "code",
   "execution_count": 11,
   "id": "3be4982d",
   "metadata": {},
   "outputs": [],
   "source": [
    "real_text = \"I am buying a Ferrari  tomorrow\"\n",
    "start_position = 14\n",
    "end_position = 22"
   ]
  },
  {
   "cell_type": "code",
   "execution_count": 12,
   "id": "9aeb1bf6",
   "metadata": {},
   "outputs": [],
   "source": [
    "cut_portion = cut_text(real_text,start_position,end_position)"
   ]
  },
  {
   "cell_type": "code",
   "execution_count": 13,
   "id": "f6f836a5",
   "metadata": {},
   "outputs": [
    {
     "name": "stdout",
     "output_type": "stream",
     "text": [
      "I am buying a Ferrari  tomorrow\n",
      "Ferrari \n"
     ]
    }
   ],
   "source": [
    "print(real_text)\n",
    "print(cut_portion)"
   ]
  },
  {
   "cell_type": "code",
   "execution_count": null,
   "id": "ad469db9",
   "metadata": {},
   "outputs": [],
   "source": []
  },
  {
   "cell_type": "code",
   "execution_count": null,
   "id": "80210576",
   "metadata": {},
   "outputs": [],
   "source": []
  },
  {
   "cell_type": "code",
   "execution_count": null,
   "id": "0b179c02",
   "metadata": {},
   "outputs": [],
   "source": []
  },
  {
   "cell_type": "code",
   "execution_count": null,
   "id": "b5e93afd",
   "metadata": {},
   "outputs": [],
   "source": []
  }
 ],
 "metadata": {
  "kernelspec": {
   "display_name": "Python 3 (ipykernel)",
   "language": "python",
   "name": "python3"
  },
  "language_info": {
   "codemirror_mode": {
    "name": "ipython",
    "version": 3
   },
   "file_extension": ".py",
   "mimetype": "text/x-python",
   "name": "python",
   "nbconvert_exporter": "python",
   "pygments_lexer": "ipython3",
   "version": "3.11.5"
  }
 },
 "nbformat": 4,
 "nbformat_minor": 5
}
