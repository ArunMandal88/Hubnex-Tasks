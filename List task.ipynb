{
 "cells": [
  {
   "cell_type": "markdown",
   "id": "7989aee8",
   "metadata": {},
   "source": [
    "# APPEND FUNCTION\n",
    "* The append function method is used to add element at the end of the list."
   ]
  },
  {
   "cell_type": "code",
   "execution_count": 8,
   "id": "2775ec58",
   "metadata": {},
   "outputs": [
    {
     "name": "stdout",
     "output_type": "stream",
     "text": [
      "[2, 3, 4, 5, 6]\n"
     ]
    }
   ],
   "source": [
    "a1=[2,3,4,5,6,]\n",
    "print(a1)"
   ]
  },
  {
   "cell_type": "code",
   "execution_count": 9,
   "id": "0e10fe8b",
   "metadata": {},
   "outputs": [
    {
     "data": {
      "text/plain": [
       "[2, 3, 4, 5, 6, 7]"
      ]
     },
     "execution_count": 9,
     "metadata": {},
     "output_type": "execute_result"
    }
   ],
   "source": [
    "a1.append(7)\n",
    "a1"
   ]
  },
  {
   "cell_type": "markdown",
   "id": "74632d7e",
   "metadata": {},
   "source": [
    "# REMOVE FUNCTION\n",
    " * The remove function method removes a given element from the list."
   ]
  },
  {
   "cell_type": "code",
   "execution_count": 10,
   "id": "0c3db787",
   "metadata": {},
   "outputs": [
    {
     "data": {
      "text/plain": [
       "['orange', 'papaya', 'banana', 'mango']"
      ]
     },
     "execution_count": 10,
     "metadata": {},
     "output_type": "execute_result"
    }
   ],
   "source": [
    "a2=['orange','papaya','banana','mango']\n",
    "a2"
   ]
  },
  {
   "cell_type": "code",
   "execution_count": 11,
   "id": "85db5e71",
   "metadata": {},
   "outputs": [],
   "source": [
    "a2.remove(\"banana\")"
   ]
  },
  {
   "cell_type": "code",
   "execution_count": 12,
   "id": "a70a6e12",
   "metadata": {},
   "outputs": [
    {
     "data": {
      "text/plain": [
       "['orange', 'papaya', 'mango']"
      ]
     },
     "execution_count": 12,
     "metadata": {},
     "output_type": "execute_result"
    }
   ],
   "source": [
    "a2"
   ]
  },
  {
   "cell_type": "markdown",
   "id": "20698b72",
   "metadata": {},
   "source": [
    " # COUNT FUNCTION\n",
    " * The count function method returns the count of the occurrences of a given element in a list."
   ]
  },
  {
   "cell_type": "code",
   "execution_count": 16,
   "id": "d3d7db35",
   "metadata": {},
   "outputs": [],
   "source": [
    "a3=['apple','mango','papaya','cherry','banana','apple']"
   ]
  },
  {
   "cell_type": "code",
   "execution_count": 17,
   "id": "560dc626",
   "metadata": {},
   "outputs": [
    {
     "data": {
      "text/plain": [
       "['apple', 'mango', 'papaya', 'cherry', 'banana', 'apple']"
      ]
     },
     "execution_count": 17,
     "metadata": {},
     "output_type": "execute_result"
    }
   ],
   "source": [
    "a3"
   ]
  },
  {
   "cell_type": "code",
   "execution_count": 18,
   "id": "5eee3bb9",
   "metadata": {},
   "outputs": [
    {
     "data": {
      "text/plain": [
       "1"
      ]
     },
     "execution_count": 18,
     "metadata": {},
     "output_type": "execute_result"
    }
   ],
   "source": [
    "a3.count(\"mango\")"
   ]
  },
  {
   "cell_type": "code",
   "execution_count": 19,
   "id": "567bb274",
   "metadata": {},
   "outputs": [
    {
     "data": {
      "text/plain": [
       "['apple', 'mango', 'papaya', 'cherry', 'banana', 'apple']"
      ]
     },
     "execution_count": 19,
     "metadata": {},
     "output_type": "execute_result"
    }
   ],
   "source": [
    "a3"
   ]
  },
  {
   "cell_type": "code",
   "execution_count": 20,
   "id": "ea0b6352",
   "metadata": {},
   "outputs": [
    {
     "data": {
      "text/plain": [
       "2"
      ]
     },
     "execution_count": 20,
     "metadata": {},
     "output_type": "execute_result"
    }
   ],
   "source": [
    "a3.count(\"apple\")"
   ]
  },
  {
   "cell_type": "markdown",
   "id": "e260831e",
   "metadata": {},
   "source": [
    " # CLEAR FUNCTION\n",
    " * Clear function method removes all items from the list making it an empty list."
   ]
  },
  {
   "cell_type": "code",
   "execution_count": 21,
   "id": "93fb0f0c",
   "metadata": {},
   "outputs": [
    {
     "data": {
      "text/plain": [
       "[1, 2, 3, 4, 5, 6]"
      ]
     },
     "execution_count": 21,
     "metadata": {},
     "output_type": "execute_result"
    }
   ],
   "source": [
    "a4=[1,2,3,4,5,6]\n",
    "a4"
   ]
  },
  {
   "cell_type": "code",
   "execution_count": 22,
   "id": "6c687c75",
   "metadata": {},
   "outputs": [],
   "source": [
    "a4.clear()"
   ]
  },
  {
   "cell_type": "code",
   "execution_count": 23,
   "id": "9ee8170c",
   "metadata": {},
   "outputs": [
    {
     "data": {
      "text/plain": [
       "[]"
      ]
     },
     "execution_count": 23,
     "metadata": {},
     "output_type": "execute_result"
    }
   ],
   "source": [
    "a4"
   ]
  },
  {
   "cell_type": "markdown",
   "id": "c9d179fc",
   "metadata": {},
   "source": [
    " # EXTEND FUNCTION\n",
    " * The extend function method adds items of at the and of a list."
   ]
  },
  {
   "cell_type": "code",
   "execution_count": 24,
   "id": "f919314e",
   "metadata": {},
   "outputs": [],
   "source": [
    "bikes=[\"BMW\",\"YAHAMA\",\"KAWASAKI\",\"BUGATI\"]"
   ]
  },
  {
   "cell_type": "code",
   "execution_count": 25,
   "id": "063d020d",
   "metadata": {},
   "outputs": [],
   "source": [
    "other_bikes=[\"HAYABUSA\", \"ROYAL ENFIELD\"]"
   ]
  },
  {
   "cell_type": "code",
   "execution_count": 26,
   "id": "b9838fc6",
   "metadata": {},
   "outputs": [],
   "source": [
    "bikes.extend(other_bikes)"
   ]
  },
  {
   "cell_type": "code",
   "execution_count": 27,
   "id": "87aebbcf",
   "metadata": {},
   "outputs": [
    {
     "data": {
      "text/plain": [
       "['BMW', 'YAHAMA', 'KAWASAKI', 'BUGATI', 'HAYABUSA', 'ROYAL ENFIELD']"
      ]
     },
     "execution_count": 27,
     "metadata": {},
     "output_type": "execute_result"
    }
   ],
   "source": [
    "bikes"
   ]
  },
  {
   "cell_type": "markdown",
   "id": "bbcf73e4",
   "metadata": {},
   "source": [
    " # INSERT FUNCTION\n",
    " * Insert function method inserts an item at a specific index in a list."
   ]
  },
  {
   "cell_type": "code",
   "execution_count": 28,
   "id": "4d466e5b",
   "metadata": {},
   "outputs": [
    {
     "data": {
      "text/plain": [
       "['banana', 'cherry', 'mango']"
      ]
     },
     "execution_count": 28,
     "metadata": {},
     "output_type": "execute_result"
    }
   ],
   "source": [
    "fruits=[\"banana\",\"cherry\",\"mango\"]\n",
    "fruits\n"
   ]
  },
  {
   "cell_type": "code",
   "execution_count": 29,
   "id": "4655dec7",
   "metadata": {},
   "outputs": [
    {
     "data": {
      "text/plain": [
       "['banana', 'cherry', 'apple', 'mango']"
      ]
     },
     "execution_count": 29,
     "metadata": {},
     "output_type": "execute_result"
    }
   ],
   "source": [
    "fruits.insert(2,\"apple\")\n",
    "fruits"
   ]
  },
  {
   "cell_type": "markdown",
   "id": "8aed1813",
   "metadata": {},
   "source": [
    " # SORT FUNCTION\n",
    " * Sort function method sort the element of a list. It sorts in ascending order or descending order."
   ]
  },
  {
   "cell_type": "code",
   "execution_count": 30,
   "id": "c5dfd5a6",
   "metadata": {},
   "outputs": [
    {
     "data": {
      "text/plain": [
       "[30, 45, 20, 40, 10, 50, 25, 15, 35]"
      ]
     },
     "execution_count": 30,
     "metadata": {},
     "output_type": "execute_result"
    }
   ],
   "source": [
    "num=[30,45,20,40,10,50,25,15,35]\n",
    "num"
   ]
  },
  {
   "cell_type": "code",
   "execution_count": 31,
   "id": "8ea0c8f9",
   "metadata": {},
   "outputs": [
    {
     "data": {
      "text/plain": [
       "[10, 15, 20, 25, 30, 35, 40, 45, 50]"
      ]
     },
     "execution_count": 31,
     "metadata": {},
     "output_type": "execute_result"
    }
   ],
   "source": [
    "num.sort()\n",
    "num"
   ]
  },
  {
   "cell_type": "code",
   "execution_count": 32,
   "id": "3b3fa57b",
   "metadata": {},
   "outputs": [
    {
     "data": {
      "text/plain": [
       "[50, 45, 40, 35, 30, 25, 20, 15, 10]"
      ]
     },
     "execution_count": 32,
     "metadata": {},
     "output_type": "execute_result"
    }
   ],
   "source": [
    "num.sort(reverse=True)\n",
    "num"
   ]
  },
  {
   "cell_type": "markdown",
   "id": "6a4e4d68",
   "metadata": {},
   "source": [
    " # MIN FUNCTION\n",
    " * Min function returns the smallest element."
   ]
  },
  {
   "cell_type": "code",
   "execution_count": 33,
   "id": "88c43853",
   "metadata": {},
   "outputs": [
    {
     "data": {
      "text/plain": [
       "[50, 45, 40, 35, 30, 25, 20, 15, 10]"
      ]
     },
     "execution_count": 33,
     "metadata": {},
     "output_type": "execute_result"
    }
   ],
   "source": [
    "num"
   ]
  },
  {
   "cell_type": "code",
   "execution_count": 34,
   "id": "bfa5ef25",
   "metadata": {},
   "outputs": [
    {
     "name": "stdout",
     "output_type": "stream",
     "text": [
      "10\n"
     ]
    }
   ],
   "source": [
    "small = min(num)\n",
    "print(small)\n"
   ]
  },
  {
   "cell_type": "markdown",
   "id": "c978f37a",
   "metadata": {},
   "source": [
    " # MAX FUNCTION\n",
    " * Max function return the largest element."
   ]
  },
  {
   "cell_type": "code",
   "execution_count": 35,
   "id": "27d280bc",
   "metadata": {},
   "outputs": [
    {
     "data": {
      "text/plain": [
       "[50, 45, 40, 35, 30, 25, 20, 15, 10]"
      ]
     },
     "execution_count": 35,
     "metadata": {},
     "output_type": "execute_result"
    }
   ],
   "source": [
    "num"
   ]
  },
  {
   "cell_type": "code",
   "execution_count": 36,
   "id": "94484442",
   "metadata": {},
   "outputs": [
    {
     "name": "stdout",
     "output_type": "stream",
     "text": [
      "50\n"
     ]
    }
   ],
   "source": [
    "large = max(num)\n",
    "print(large)"
   ]
  },
  {
   "cell_type": "markdown",
   "id": "ddea2030",
   "metadata": {},
   "source": [
    " # POP FUNCTION\n",
    " * Pop function removes element at a specific index from the list."
   ]
  },
  {
   "cell_type": "code",
   "execution_count": 37,
   "id": "59c59a8d",
   "metadata": {},
   "outputs": [
    {
     "data": {
      "text/plain": [
       "[23, 34, 45, 56]"
      ]
     },
     "execution_count": 37,
     "metadata": {},
     "output_type": "execute_result"
    }
   ],
   "source": [
    "f1=[23,34,45,56]\n",
    "f1\n"
   ]
  },
  {
   "cell_type": "code",
   "execution_count": 38,
   "id": "aed84ef0",
   "metadata": {},
   "outputs": [
    {
     "data": {
      "text/plain": [
       "56"
      ]
     },
     "execution_count": 38,
     "metadata": {},
     "output_type": "execute_result"
    }
   ],
   "source": [
    "f1.pop()"
   ]
  },
  {
   "cell_type": "code",
   "execution_count": null,
   "id": "172a80ac",
   "metadata": {},
   "outputs": [],
   "source": []
  }
 ],
 "metadata": {
  "kernelspec": {
   "display_name": "Python 3 (ipykernel)",
   "language": "python",
   "name": "python3"
  },
  "language_info": {
   "codemirror_mode": {
    "name": "ipython",
    "version": 3
   },
   "file_extension": ".py",
   "mimetype": "text/x-python",
   "name": "python",
   "nbconvert_exporter": "python",
   "pygments_lexer": "ipython3",
   "version": "3.11.5"
  }
 },
 "nbformat": 4,
 "nbformat_minor": 5
}
