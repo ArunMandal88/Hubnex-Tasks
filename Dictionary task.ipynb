{
 "cells": [
  {
   "cell_type": "markdown",
   "id": "9a491962",
   "metadata": {},
   "source": [
    " # DICTIONARY\n",
    "* The Dictionary method is like a map that is used to store data in the from of a key:value pair."
   ]
  },
  {
   "cell_type": "code",
   "execution_count": 1,
   "id": "c91b28f3",
   "metadata": {},
   "outputs": [
    {
     "data": {
      "text/plain": [
       "{'TOYOTA': 'FORTUNER', 'TATA': 'RANGE ROVER'}"
      ]
     },
     "execution_count": 1,
     "metadata": {},
     "output_type": "execute_result"
    }
   ],
   "source": [
    "d1={'TOYOTA':'FORTUNER','TATA':'RANGE ROVER'}\n",
    "d1"
   ]
  },
  {
   "cell_type": "code",
   "execution_count": 2,
   "id": "9dc0930f",
   "metadata": {},
   "outputs": [
    {
     "data": {
      "text/plain": [
       "dict"
      ]
     },
     "execution_count": 2,
     "metadata": {},
     "output_type": "execute_result"
    }
   ],
   "source": [
    "type(d1)"
   ]
  },
  {
   "cell_type": "markdown",
   "id": "acade531",
   "metadata": {},
   "source": [
    " # KEYS FUNCTION\n",
    " * The keys function method is returns a view object that displays a list of all the keys."
   ]
  },
  {
   "cell_type": "code",
   "execution_count": 4,
   "id": "6fa385bd",
   "metadata": {},
   "outputs": [
    {
     "data": {
      "text/plain": [
       "{'YAMAHA': 'R15', 'TVS': 'APACHIE', 'HONDA': 'HORNET'}"
      ]
     },
     "execution_count": 4,
     "metadata": {},
     "output_type": "execute_result"
    }
   ],
   "source": [
    "d2 = {'YAMAHA': 'R15', 'TVS': 'APACHIE', 'HONDA': 'HORNET'}\n",
    "d2"
   ]
  },
  {
   "cell_type": "code",
   "execution_count": 5,
   "id": "5b9bc7f0",
   "metadata": {},
   "outputs": [
    {
     "data": {
      "text/plain": [
       "dict_keys(['YAMAHA', 'TVS', 'HONDA'])"
      ]
     },
     "execution_count": 5,
     "metadata": {},
     "output_type": "execute_result"
    }
   ],
   "source": [
    "d2 = d2.keys()\n",
    "d2"
   ]
  },
  {
   "cell_type": "markdown",
   "id": "1905f62f",
   "metadata": {},
   "source": [
    " # CLEAR FUNCTION\n",
    " * The clear function method removes all items from the dictonary."
   ]
  },
  {
   "cell_type": "code",
   "execution_count": 6,
   "id": "6bf67370",
   "metadata": {},
   "outputs": [
    {
     "data": {
      "text/plain": [
       "{1: 'mango', 2: 'apple'}"
      ]
     },
     "execution_count": 6,
     "metadata": {},
     "output_type": "execute_result"
    }
   ],
   "source": [
    "d3 = {1: \"mango\", 2: \"apple\"}\n",
    "d3"
   ]
  },
  {
   "cell_type": "code",
   "execution_count": 7,
   "id": "7e0c1de9",
   "metadata": {},
   "outputs": [
    {
     "data": {
      "text/plain": [
       "{}"
      ]
     },
     "execution_count": 7,
     "metadata": {},
     "output_type": "execute_result"
    }
   ],
   "source": [
    "d3.clear()\n",
    "d3"
   ]
  },
  {
   "cell_type": "markdown",
   "id": "c1caafe5",
   "metadata": {},
   "source": [
    " # FROMKEYS FUNCTION\n",
    " * The fromkeys function returns the dictinary with key mapped and specific value.it creates a new dictionary from the given sequence with the specific value."
   ]
  },
  {
   "cell_type": "code",
   "execution_count": 8,
   "id": "5c335d55",
   "metadata": {},
   "outputs": [
    {
     "name": "stdout",
     "output_type": "stream",
     "text": [
      "{'a': None, 'c': None, 'b': None}\n"
     ]
    }
   ],
   "source": [
    "sq1 = {'a', 'b', 'c'}\n",
    "print(dict.fromkeys(sq1, None))"
   ]
  },
  {
   "cell_type": "markdown",
   "id": "363ae315",
   "metadata": {},
   "source": [
    " # GET FUNCTION\n",
    " * Get function method return the value for the given key if present in the dictionary."
   ]
  },
  {
   "cell_type": "code",
   "execution_count": 9,
   "id": "8ea9a859",
   "metadata": {},
   "outputs": [
    {
     "data": {
      "text/plain": [
       "{'TOYOTA': 'FORTUNER', 'TATA': 'RANGE ROVER'}"
      ]
     },
     "execution_count": 9,
     "metadata": {},
     "output_type": "execute_result"
    }
   ],
   "source": [
    "d1"
   ]
  },
  {
   "cell_type": "code",
   "execution_count": 10,
   "id": "579e2541",
   "metadata": {},
   "outputs": [
    {
     "data": {
      "text/plain": [
       "'FORTUNER'"
      ]
     },
     "execution_count": 10,
     "metadata": {},
     "output_type": "execute_result"
    }
   ],
   "source": [
    "d1.get('TOYOTA')"
   ]
  },
  {
   "cell_type": "markdown",
   "id": "265eb159",
   "metadata": {},
   "source": [
    "# POP FUNCTION \n",
    " * pop function method removs and returns the specified element."
   ]
  },
  {
   "cell_type": "code",
   "execution_count": 11,
   "id": "d46eb9f6",
   "metadata": {},
   "outputs": [
    {
     "data": {
      "text/plain": [
       "{'Tanmay': 2, 'kunal': 3, 'Sukniya': 4, 'Nikhil': 1}"
      ]
     },
     "execution_count": 11,
     "metadata": {},
     "output_type": "execute_result"
    }
   ],
   "source": [
    "race_rank = {\"Tanmay\":2, \"kunal\":3, \"Sukniya\":4, \"Nikhil\":1}\n",
    "race_rank"
   ]
  },
  {
   "cell_type": "code",
   "execution_count": 12,
   "id": "b74eafd3",
   "metadata": {},
   "outputs": [
    {
     "data": {
      "text/plain": [
       "3"
      ]
     },
     "execution_count": 12,
     "metadata": {},
     "output_type": "execute_result"
    }
   ],
   "source": [
    "race_rank.pop(\"kunal\")"
   ]
  },
  {
   "cell_type": "markdown",
   "id": "4fe9705d",
   "metadata": {},
   "source": [
    " # SETDEFAULT FUNCTION\n",
    " * Setdefault function returns the value of a key.Eles,it insert a key with the default value to the dictionary."
   ]
  },
  {
   "cell_type": "code",
   "execution_count": 13,
   "id": "057efbaf",
   "metadata": {},
   "outputs": [
    {
     "data": {
      "text/plain": [
       "{'a': 55, 'b': 64, 'c': 74, 'd': 87}"
      ]
     },
     "execution_count": 13,
     "metadata": {},
     "output_type": "execute_result"
    }
   ],
   "source": [
    "da1 = {'a':55, 'b':64, 'c':74, 'd':87}\n",
    "da1"
   ]
  },
  {
   "cell_type": "code",
   "execution_count": 14,
   "id": "4e44ac5e",
   "metadata": {},
   "outputs": [
    {
     "data": {
      "text/plain": [
       "93"
      ]
     },
     "execution_count": 14,
     "metadata": {},
     "output_type": "execute_result"
    }
   ],
   "source": [
    "da1.setdefault('',93)"
   ]
  },
  {
   "cell_type": "code",
   "execution_count": 15,
   "id": "6daa5aa8",
   "metadata": {},
   "outputs": [
    {
     "data": {
      "text/plain": [
       "{'a': 55, 'b': 64, 'c': 74, 'd': 87, '': 93}"
      ]
     },
     "execution_count": 15,
     "metadata": {},
     "output_type": "execute_result"
    }
   ],
   "source": [
    "da1"
   ]
  },
  {
   "cell_type": "markdown",
   "id": "6db9aa5c",
   "metadata": {},
   "source": [
    " # VALUE FANCTION\n",
    " * The value function returns a view object.The view object contains the value of the dictinary,as a list."
   ]
  },
  {
   "cell_type": "code",
   "execution_count": 17,
   "id": "a750dc88",
   "metadata": {},
   "outputs": [
    {
     "data": {
      "text/plain": [
       "{'sourabh': 2, 'Raj': 3, 'gaurav': 4}"
      ]
     },
     "execution_count": 17,
     "metadata": {},
     "output_type": "execute_result"
    }
   ],
   "source": [
    "dict1 = {\"sourabh\": 2, \"Raj\":3, \"gaurav\":4}\n",
    "dict1"
   ]
  },
  {
   "cell_type": "code",
   "execution_count": 18,
   "id": "cceda015",
   "metadata": {},
   "outputs": [
    {
     "data": {
      "text/plain": [
       "dict_values([2, 3, 4])"
      ]
     },
     "execution_count": 18,
     "metadata": {},
     "output_type": "execute_result"
    }
   ],
   "source": [
    "dict1.values()"
   ]
  },
  {
   "cell_type": "code",
   "execution_count": 19,
   "id": "be65281d",
   "metadata": {},
   "outputs": [],
   "source": [
    "dist = {\"bicky\": \"5\", \"rakesh\": \"1\", \"amit\": \"5\"}"
   ]
  },
  {
   "cell_type": "code",
   "execution_count": 20,
   "id": "eb5ad28d",
   "metadata": {},
   "outputs": [
    {
     "data": {
      "text/plain": [
       "{'bicky': '5', 'rakesh': '1', 'amit': '5'}"
      ]
     },
     "execution_count": 20,
     "metadata": {},
     "output_type": "execute_result"
    }
   ],
   "source": [
    "dist"
   ]
  },
  {
   "cell_type": "code",
   "execution_count": 21,
   "id": "cdb7b8ad",
   "metadata": {},
   "outputs": [
    {
     "data": {
      "text/plain": [
       "dict_values(['5', '1', '5'])"
      ]
     },
     "execution_count": 21,
     "metadata": {},
     "output_type": "execute_result"
    }
   ],
   "source": [
    "dist.values()"
   ]
  },
  {
   "cell_type": "code",
   "execution_count": null,
   "id": "7829fb65",
   "metadata": {},
   "outputs": [],
   "source": []
  }
 ],
 "metadata": {
  "kernelspec": {
   "display_name": "Python 3 (ipykernel)",
   "language": "python",
   "name": "python3"
  },
  "language_info": {
   "codemirror_mode": {
    "name": "ipython",
    "version": 3
   },
   "file_extension": ".py",
   "mimetype": "text/x-python",
   "name": "python",
   "nbconvert_exporter": "python",
   "pygments_lexer": "ipython3",
   "version": "3.11.5"
  }
 },
 "nbformat": 4,
 "nbformat_minor": 5
}
