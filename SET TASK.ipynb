{
 "cells": [
  {
   "cell_type": "markdown",
   "id": "eb7a8c3f",
   "metadata": {},
   "source": [
    "# SET\n",
    " * Set are unordered collections of unique elements. They are similar to lists in terms of storing elements, but unlike lists, sets cannot contain duplicate entries.\n",
    "\n",
    " * Example:-"
   ]
  },
  {
   "cell_type": "code",
   "execution_count": 1,
   "id": "137c5cc6",
   "metadata": {},
   "outputs": [
    {
     "name": "stdout",
     "output_type": "stream",
     "text": [
      "<class 'set'>\n",
      "{32, 65, 34, 1, 38, 74, 75, 22}\n"
     ]
    }
   ],
   "source": [
    "S1 = {1,22,74,34,65,75,32,38}\n",
    "\n",
    "print(type(S1))\n",
    "\n",
    "print(S1)"
   ]
  },
  {
   "cell_type": "markdown",
   "id": "4b3832ea",
   "metadata": {},
   "source": [
    " # ADD(+)\n",
    " * The 'ADD' fuction is use to add elements in sets."
   ]
  },
  {
   "cell_type": "code",
   "execution_count": 2,
   "id": "71894a69",
   "metadata": {},
   "outputs": [
    {
     "name": "stdout",
     "output_type": "stream",
     "text": [
      "{33, 34, 2, 'NewValue', 21, 55, 43}\n"
     ]
    }
   ],
   "source": [
    "S2 = {21,34,33,55,2,43}\n",
    "\n",
    "S2.add('NewValue')\n",
    "\n",
    "print(S2)"
   ]
  },
  {
   "cell_type": "markdown",
   "id": "fab39cb1",
   "metadata": {},
   "source": [
    "# CLEAR()\n",
    " * The 'CLEAR' functiontrRemoves all elements from the set, leaving it empty\n",
    "\n"
   ]
  },
  {
   "cell_type": "code",
   "execution_count": 3,
   "id": "0c6d0231",
   "metadata": {},
   "outputs": [
    {
     "data": {
      "text/plain": [
       "[]"
      ]
     },
     "execution_count": 3,
     "metadata": {},
     "output_type": "execute_result"
    }
   ],
   "source": [
    "s3= [12,22,34,56,78,98,990,12,122,234]\n",
    "\n",
    "s3.clear()\n",
    "\n",
    "s3"
   ]
  },
  {
   "cell_type": "markdown",
   "id": "cf79023a",
   "metadata": {},
   "source": [
    "# DIFFERENCE()\n",
    " *The 'DIFFERENCE' FUNCTION Returns a new set with elements that are in the set but not in the others."
   ]
  },
  {
   "cell_type": "code",
   "execution_count": 6,
   "id": "68990705",
   "metadata": {},
   "outputs": [
    {
     "data": {
      "text/plain": [
       "{43, 50, 54}"
      ]
     },
     "execution_count": 6,
     "metadata": {},
     "output_type": "execute_result"
    }
   ],
   "source": [
    "s1 = {20,40,30,50,43,54,40}\n",
    "\n",
    "s2 = {20,30,40}\n",
    "\n",
    "NewSet = s1.difference(s2)\n",
    "\n",
    "NewSet\n"
   ]
  },
  {
   "cell_type": "markdown",
   "id": "aae38863",
   "metadata": {},
   "source": [
    "# COPY()\n",
    " * The 'COPY' function returns a shallow copy of the set.\n",
    "\n"
   ]
  },
  {
   "cell_type": "code",
   "execution_count": 5,
   "id": "17312e6b",
   "metadata": {},
   "outputs": [
    {
     "data": {
      "text/plain": [
       "{17, 20, 21, 32, 33, 34, 67, 99}"
      ]
     },
     "execution_count": 5,
     "metadata": {},
     "output_type": "execute_result"
    }
   ],
   "source": [
    "s5 = {33,21,34,67,34,17,32,99,20}\n",
    "\n",
    "s5.copy()\n",
    "\n",
    "s5"
   ]
  },
  {
   "cell_type": "markdown",
   "id": "05815093",
   "metadata": {},
   "source": [
    "# DIFFERENCE_UPDATE()\n",
    "* The 'DIFFERENCE_UPDATE()' function removes elements from the set that are also in the others."
   ]
  },
  {
   "cell_type": "code",
   "execution_count": 7,
   "id": "71dd7d12",
   "metadata": {},
   "outputs": [
    {
     "data": {
      "text/plain": [
       "{23, 33, 95}"
      ]
     },
     "execution_count": 7,
     "metadata": {},
     "output_type": "execute_result"
    }
   ],
   "source": [
    "s6 = {22,40,95,80,45,88,33,23}\n",
    "\n",
    "sn = {22,40,80,45,88}\n",
    "\n",
    "s6.difference_update(sn)\n",
    "\n",
    "s6"
   ]
  },
  {
   "cell_type": "markdown",
   "id": "f5b60f4f",
   "metadata": {},
   "source": [
    "# ISDISJOINT()\n",
    "*The 'ISDISJOINT' methods returns True if the set has no elements in common with other. If the set and other are disjoint, returns False otherwise.\n",
    "\n"
   ]
  },
  {
   "cell_type": "code",
   "execution_count": 8,
   "id": "e6584d94",
   "metadata": {},
   "outputs": [
    {
     "data": {
      "text/plain": [
       "False"
      ]
     },
     "execution_count": 8,
     "metadata": {},
     "output_type": "execute_result"
    }
   ],
   "source": [
    "s1 = {55,230,450}\n",
    "\n",
    "s2 = {51,130,230,150}\n",
    "\n",
    "s1.isdisjoint(s2)"
   ]
  },
  {
   "cell_type": "markdown",
   "id": "5712456f",
   "metadata": {},
   "source": [
    "# ISSUBSET()\n",
    "* The 'ISSUBSET' returns True if all elements of the set are in other, False otherwise."
   ]
  },
  {
   "cell_type": "code",
   "execution_count": 9,
   "id": "dccd4695",
   "metadata": {},
   "outputs": [
    {
     "data": {
      "text/plain": [
       "False"
      ]
     },
     "execution_count": 9,
     "metadata": {},
     "output_type": "execute_result"
    }
   ],
   "source": [
    "set1 = {30, 40, 550}\n",
    "\n",
    "set2 = {50, 30, 40}\n",
    "\n",
    "set1.issubset(set2)\n"
   ]
  },
  {
   "cell_type": "markdown",
   "id": "4c8369bc",
   "metadata": {},
   "source": [
    "# ISSUPERSET()\n",
    "*The 'ISSUPERSET' methods returns True if all elements of other are in the set, False otherwise."
   ]
  },
  {
   "cell_type": "code",
   "execution_count": 10,
   "id": "6a329f5e",
   "metadata": {},
   "outputs": [
    {
     "data": {
      "text/plain": [
       "False"
      ]
     },
     "execution_count": 10,
     "metadata": {},
     "output_type": "execute_result"
    }
   ],
   "source": [
    "set = {30, 40, 50}\n",
    "\n",
    "newSet = {20, 30, 40}\n",
    "\n",
    "set.issuperset(newSet)"
   ]
  },
  {
   "cell_type": "markdown",
   "id": "a1a59870",
   "metadata": {},
   "source": [
    "# POP()\n",
    "*The 'POP' method removes and returns an arbitrary element from the set. Raises KeyError if the set is empty.\n",
    "\n"
   ]
  },
  {
   "cell_type": "code",
   "execution_count": 11,
   "id": "55f3b191",
   "metadata": {},
   "outputs": [
    {
     "data": {
      "text/plain": [
       "{42, 243, 334, 420, 648}"
      ]
     },
     "execution_count": 11,
     "metadata": {},
     "output_type": "execute_result"
    }
   ],
   "source": [
    "set = {243, 420, 34, 42, 334, 648}\n",
    "\n",
    "set.pop()\n",
    "\n",
    "set"
   ]
  },
  {
   "cell_type": "code",
   "execution_count": null,
   "id": "d1ac24f5",
   "metadata": {},
   "outputs": [],
   "source": []
  }
 ],
 "metadata": {
  "kernelspec": {
   "display_name": "Python 3 (ipykernel)",
   "language": "python",
   "name": "python3"
  },
  "language_info": {
   "codemirror_mode": {
    "name": "ipython",
    "version": 3
   },
   "file_extension": ".py",
   "mimetype": "text/x-python",
   "name": "python",
   "nbconvert_exporter": "python",
   "pygments_lexer": "ipython3",
   "version": "3.11.5"
  }
 },
 "nbformat": 4,
 "nbformat_minor": 5
}
